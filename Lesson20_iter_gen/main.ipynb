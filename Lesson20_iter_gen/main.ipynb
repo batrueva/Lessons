{
 "cells": [
  {
   "cell_type": "code",
   "execution_count": 9,
   "metadata": {},
   "outputs": [
    {
     "name": "stdout",
     "output_type": "stream",
     "text": [
      "1\n",
      "2\n",
      "3\n",
      "4\n",
      "5\n"
     ]
    }
   ],
   "source": [
    "list = [1, 2, 3, 4, 5]\n",
    "for i in list:\n",
    "    print(i)\n",
    "\n",
    "\n",
    "  "
   ]
  },
  {
   "cell_type": "code",
   "execution_count": 19,
   "metadata": {},
   "outputs": [
    {
     "name": "stdout",
     "output_type": "stream",
     "text": [
      "<list_iterator object at 0x000001D266332B60>\n",
      "1\n",
      "2\n",
      "3\n",
      "4\n",
      "5\n"
     ]
    }
   ],
   "source": [
    "list = [1, 2, 3, 4, 5]\n",
    "iterator = iter(list) \n",
    "print(iterator) \n",
    "\n",
    "val1 = next(iterator)\n",
    "print(val1)\n",
    "val2 = next(iterator)\n",
    "print(val2)\n",
    "val3 = next(iterator)\n",
    "print(val3)\n",
    "val4 = next(iterator)\n",
    "print(val4)\n",
    "val5 = next(iterator)\n",
    "print(val5)\n",
    "# val6 = next(iterator)\n",
    "# print(val6)"
   ]
  },
  {
   "cell_type": "code",
   "execution_count": 20,
   "metadata": {},
   "outputs": [
    {
     "name": "stdout",
     "output_type": "stream",
     "text": [
      "[1, 4, 9, 16, 25, 36, 49, 64, 81, 100]\n"
     ]
    }
   ],
   "source": [
    "from typing import List\n",
    "def get_pows(from_num: int, to_num: int) -> List[int]:\n",
    "    result = []\n",
    "    while from_num <= to_num:\n",
    "        result.append(from_num ** 2)\n",
    "        from_num +=1\n",
    "    return result\n",
    "\n",
    "print(get_pows(1, 10))"
   ]
  },
  {
   "cell_type": "code",
   "execution_count": null,
   "metadata": {},
   "outputs": [
    {
     "name": "stdout",
     "output_type": "stream",
     "text": [
      "<generator object get_pows at 0x000001D2668ED300>\n",
      "1\n",
      "4\n"
     ]
    }
   ],
   "source": [
    "def get_pows(from_num: int, to_num: int):\n",
    "    while from_num <= to_num:\n",
    "        yield from_num ** 2\n",
    "        from_num +=1\n",
    "        \n",
    "    # return result\n",
    "\n",
    "g = get_pows(1, 10) \n",
    "print(g)\n",
    "\n",
    "val1 = next(g)\n",
    "print(val1)\n",
    "\n",
    "val2 = next(g)\n",
    "print(val2)\n"
   ]
  },
  {
   "cell_type": "code",
   "execution_count": 21,
   "metadata": {},
   "outputs": [
    {
     "name": "stdout",
     "output_type": "stream",
     "text": [
      "val1 = 4, val2 = 16, val3 = 36\n"
     ]
    }
   ],
   "source": [
    "def get_nums(from_num: int, to_num: int):\n",
    "    while from_num <= to_num:\n",
    "        yield from_num\n",
    "        from_num +=1\n",
    "\n",
    "def get_pows(from_num: int, to_num: int):\n",
    "    for i in get_nums(from_num, to_num):\n",
    "        if i % 2 == 0:\n",
    "            yield i ** 2\n",
    "    \n",
    "g = get_pows(1, 10)  \n",
    "val1 = next(g) \n",
    "val2 = next(g) \n",
    "val3 = next(g) \n",
    "\n",
    "print(f\"val1 = {val1}, val2 = {val2}, val3 = {val3}\")\n"
   ]
  },
  {
   "cell_type": "code",
   "execution_count": 22,
   "metadata": {},
   "outputs": [
    {
     "name": "stdout",
     "output_type": "stream",
     "text": [
      "val1 = 4, val2 = 16, val3 = 36\n"
     ]
    }
   ],
   "source": [
    "def get_nums(from_num: int, to_num: int):\n",
    "    while from_num <= to_num:\n",
    "        yield from_num\n",
    "        from_num +=1\n",
    "\n",
    "def get_pows(num_iter):\n",
    "    for i in num_iter:\n",
    "        if i % 2 == 0:\n",
    "            yield i ** 2\n",
    "    \n",
    "g = get_pows(get_nums(1, 10))  \n",
    "val1 = next(g) \n",
    "val2 = next(g) \n",
    "val3 = next(g) \n",
    "\n",
    "print(f\"val1 = {val1}, val2 = {val2}, val3 = {val3}\")"
   ]
  },
  {
   "cell_type": "code",
   "execution_count": null,
   "metadata": {},
   "outputs": [],
   "source": []
  }
 ],
 "metadata": {
  "kernelspec": {
   "display_name": "Python 3",
   "language": "python",
   "name": "python3"
  },
  "language_info": {
   "codemirror_mode": {
    "name": "ipython",
    "version": 3
   },
   "file_extension": ".py",
   "mimetype": "text/x-python",
   "name": "python",
   "nbconvert_exporter": "python",
   "pygments_lexer": "ipython3",
   "version": "3.12.2"
  }
 },
 "nbformat": 4,
 "nbformat_minor": 2
}
